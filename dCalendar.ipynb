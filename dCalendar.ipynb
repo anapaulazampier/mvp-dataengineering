{
 "cells": [
  {
   "cell_type": "code",
   "execution_count": 0,
   "metadata": {
    "application/vnd.databricks.v1+cell": {
     "cellMetadata": {
      "byteLimit": 2048000,
      "rowLimit": 10000
     },
     "inputWidgets": {},
     "nuid": "a3ab8880-8e25-46c3-8678-23884764d24d",
     "showTitle": false,
     "title": ""
    }
   },
   "outputs": [
    {
     "output_type": "display_data",
     "data": {
      "text/html": [
       "<style scoped>\n",
       "  .table-result-container {\n",
       "    max-height: 300px;\n",
       "    overflow: auto;\n",
       "  }\n",
       "  table, th, td {\n",
       "    border: 1px solid black;\n",
       "    border-collapse: collapse;\n",
       "  }\n",
       "  th, td {\n",
       "    padding: 5px;\n",
       "  }\n",
       "  th {\n",
       "    text-align: left;\n",
       "  }\n",
       "</style><div class='table-result-container'><table class='table-result'><thead style='background-color: white'><tr><th>date</th><th>day_name</th><th>day_of_month</th><th>days_in_month</th><th>hours_in_month</th><th>month</th><th>month_name</th><th>quarter</th><th>year</th></tr></thead><tbody><tr><td>2022-01-01</td><td>Saturday</td><td>1</td><td>31</td><td>744</td><td>1</td><td>January</td><td>1</td><td>2022</td></tr><tr><td>2022-01-02</td><td>Sunday</td><td>2</td><td>31</td><td>744</td><td>1</td><td>January</td><td>1</td><td>2022</td></tr><tr><td>2022-01-03</td><td>Monday</td><td>3</td><td>31</td><td>744</td><td>1</td><td>January</td><td>1</td><td>2022</td></tr><tr><td>2022-01-04</td><td>Tuesday</td><td>4</td><td>31</td><td>744</td><td>1</td><td>January</td><td>1</td><td>2022</td></tr><tr><td>2022-01-05</td><td>Wednesday</td><td>5</td><td>31</td><td>744</td><td>1</td><td>January</td><td>1</td><td>2022</td></tr></tbody></table></div>"
      ]
     },
     "metadata": {
      "application/vnd.databricks.v1+output": {
       "addedWidgets": {},
       "aggData": [],
       "aggError": "",
       "aggOverflow": false,
       "aggSchema": [],
       "aggSeriesLimitReached": false,
       "aggType": "",
       "arguments": {},
       "columnCustomDisplayInfos": {},
       "data": [
        [
         "2022-01-01",
         "Saturday",
         1,
         31,
         744,
         1,
         "January",
         1,
         2022
        ],
        [
         "2022-01-02",
         "Sunday",
         2,
         31,
         744,
         1,
         "January",
         1,
         2022
        ],
        [
         "2022-01-03",
         "Monday",
         3,
         31,
         744,
         1,
         "January",
         1,
         2022
        ],
        [
         "2022-01-04",
         "Tuesday",
         4,
         31,
         744,
         1,
         "January",
         1,
         2022
        ],
        [
         "2022-01-05",
         "Wednesday",
         5,
         31,
         744,
         1,
         "January",
         1,
         2022
        ]
       ],
       "datasetInfos": [],
       "dbfsResultPath": null,
       "isJsonSchema": true,
       "metadata": {},
       "overflow": false,
       "plotOptions": {
        "customPlotOptions": {},
        "displayType": "table",
        "pivotAggregation": null,
        "pivotColumns": null,
        "xColumns": null,
        "yColumns": null
       },
       "removedWidgets": [],
       "schema": [
        {
         "metadata": "{}",
         "name": "date",
         "type": "\"date\""
        },
        {
         "metadata": "{}",
         "name": "day_name",
         "type": "\"string\""
        },
        {
         "metadata": "{}",
         "name": "day_of_month",
         "type": "\"long\""
        },
        {
         "metadata": "{}",
         "name": "days_in_month",
         "type": "\"long\""
        },
        {
         "metadata": "{}",
         "name": "hours_in_month",
         "type": "\"long\""
        },
        {
         "metadata": "{}",
         "name": "month",
         "type": "\"long\""
        },
        {
         "metadata": "{}",
         "name": "month_name",
         "type": "\"string\""
        },
        {
         "metadata": "{}",
         "name": "quarter",
         "type": "\"long\""
        },
        {
         "metadata": "{}",
         "name": "year",
         "type": "\"long\""
        }
       ],
       "type": "table"
      }
     },
     "output_type": "display_data"
    }
   ],
   "source": [
    "from datetime import *\n",
    "from math import *\n",
    "import calendar\n",
    "\n",
    "start_date = date(datetime.today().year-2, 1, 1)\n",
    "end_date = date(datetime.today().year, 12, 31)\n",
    "\n",
    "# list of dates\n",
    "dates = []\n",
    "# delta ot time to advanced on each loop\n",
    "delta = timedelta(days=1)\n",
    "loop_date = start_date\n",
    "\n",
    "while loop_date <= end_date:\n",
    "    # add loop_date with all attributes to list\n",
    "    row = {\n",
    "        \"date\" : loop_date, \n",
    "        \"day_of_month\":loop_date.day,\n",
    "        \"day_name\" :loop_date.strftime('%A'),\n",
    "        \"month\": loop_date.month,\n",
    "        \"month_name\": loop_date.strftime('%B'),\n",
    "        \"quarter\": ceil(loop_date.month / 3),\n",
    "        \"year\": loop_date.year,\n",
    "        \"days_in_month\": calendar.monthrange(loop_date.year, loop_date.month)[1],\n",
    "        \"hours_in_month\": calendar.monthrange(loop_date.year, loop_date.month)[1]*24\n",
    "          }\n",
    "    dates.append(row)\n",
    "    # increment start date by timedelta\n",
    "    loop_date += delta\n",
    "\n",
    "dates_df = spark.createDataFrame(dates)\n",
    "display(dates_df.head(5))"
   ]
  },
  {
   "cell_type": "code",
   "execution_count": 0,
   "metadata": {
    "application/vnd.databricks.v1+cell": {
     "cellMetadata": {
      "byteLimit": 2048000,
      "rowLimit": 10000
     },
     "inputWidgets": {},
     "nuid": "e07b8169-9b30-4b4b-ba33-7e032557ef50",
     "showTitle": false,
     "title": ""
    }
   },
   "outputs": [],
   "source": [
    "dates_df.write.mode('overwrite').format(\"delta\").option(\"mergeSchema\", \"true\").save(\"/mvp_dataengieneering/tables/dCalendario\")"
   ]
  }
 ],
 "metadata": {
  "application/vnd.databricks.v1+notebook": {
   "dashboards": [],
   "environmentMetadata": null,
   "language": "python",
   "notebookMetadata": {
    "pythonIndentUnit": 4
   },
   "notebookName": "dCalendar",
   "widgets": {}
  }
 },
 "nbformat": 4,
 "nbformat_minor": 0
}
